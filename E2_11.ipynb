{
  "cells": [
    {
      "cell_type": "markdown",
      "metadata": {
        "id": "q--82SBTBhU9"
      },
      "source": [
        "# E2: Unimodal Vision Architectures (Coding)\n",
        "Welcome to the coding part of the second exercise sheet. You will explore the two most popular architecture families for processing images: Convolutional Neural Networks (ConvNets) and Vision Transformers (ViTs).\n",
        "\n",
        "The parts you must implement are within the `# ---- YOUR CODE STARTS HERE ----------` and `# ---- YOUR CODE ENDS HERE ----------` lines.\n",
        "\n",
        "Refer to the PDF handout for the more detailed and precise requirements for each section. If in doubt, follow the instructions from the PDF handout, not the notebook itself."
      ]
    },
    {
      "cell_type": "markdown",
      "metadata": {
        "id": "U7OEkSPsTpQE"
      },
      "source": [
        "## 0. Data Preparation (0 pts)"
      ]
    },
    {
      "cell_type": "markdown",
      "metadata": {
        "id": "h8W_ELdAI4rs"
      },
      "source": [
        "The first code block will download the ImageNette data. This is a subset of the ILSVRC2012 dataset (popularly known as ImageNet), including 10 easy to distinguish classes. (0 pts)"
      ]
    },
    {
      "cell_type": "code",
      "execution_count": null,
      "metadata": {
        "colab": {
          "base_uri": "https://localhost:8080/"
        },
        "id": "SUDOplwUBB-j",
        "outputId": "a9f50120-f0d5-4461-97c5-08ca8d8fec29"
      },
      "outputs": [
        {
          "output_type": "stream",
          "name": "stdout",
          "text": [
            "Downloading Imagenette...\n",
            "Extracting...\n",
            "Done!\n",
            "Train: 8522, Val: 947\n",
            "Classes: ['tench', 'English springer', 'cassette player', 'chain saw', 'church', 'French horn', 'garbage truck', 'gas pump', 'golf ball', 'parachute']\n"
          ]
        }
      ],
      "source": [
        "# --- Install dependencies (if needed in Colab) ---\n",
        "# !pip install --quiet torch torchvision\n",
        "\n",
        "import os\n",
        "import torch\n",
        "import torchvision\n",
        "from torchvision import transforms, datasets\n",
        "from torch.utils.data import random_split, DataLoader\n",
        "\n",
        "import torch.nn as nn\n",
        "import torch.nn.functional as F\n",
        "\n",
        "import torch\n",
        "import torch.nn as nn\n",
        "import matplotlib.pyplot as plt\n",
        "import tqdm\n",
        "\n",
        "# --- Download Imagenette (320px size) ---\n",
        "# Reference: https://github.com/fastai/imagenette\n",
        "IMAGENETTE_URL = \"https://s3.amazonaws.com/fast-ai-imageclas/imagenette2-320.tgz\"\n",
        "DATA_ROOT = \"./data\"\n",
        "NUM_EPOCHS = 10\n",
        "\n",
        "# Mapping from folder name (WordNet ID) to human-readable class name\n",
        "IMAGENETTE_LABELS = {\n",
        "    'n01440764': 'tench',\n",
        "    'n02102040': 'English springer',\n",
        "    'n02979186': 'cassette player',\n",
        "    'n03000684': 'chain saw',\n",
        "    'n03028079': 'church',\n",
        "    'n03394916': 'French horn',\n",
        "    'n03417042': 'garbage truck',\n",
        "    'n03425413': 'gas pump',\n",
        "    'n03445777': 'golf ball',\n",
        "    'n03888257': 'parachute'\n",
        "}\n",
        "\n",
        "os.makedirs(DATA_ROOT, exist_ok=True)\n",
        "\n",
        "if not os.path.exists(os.path.join(DATA_ROOT, \"imagenette2-320\")):\n",
        "    import tarfile, urllib.request\n",
        "    print(\"Downloading Imagenette...\")\n",
        "    urllib.request.urlretrieve(IMAGENETTE_URL, os.path.join(DATA_ROOT, \"imagenette2-320.tgz\"))\n",
        "    print(\"Extracting...\")\n",
        "    with tarfile.open(os.path.join(DATA_ROOT, \"imagenette2-320.tgz\"), \"r:gz\") as tar:\n",
        "        tar.extractall(DATA_ROOT)\n",
        "    print(\"Done!\")\n",
        "\n",
        "DATA_DIR = os.path.join(DATA_ROOT, \"imagenette2-320\")\n",
        "\n",
        "# --- Set up data transforms ---\n",
        "# For demo, normalizing with ImageNet stats\n",
        "train_transform = transforms.Compose([\n",
        "    transforms.RandomResizedCrop(224),\n",
        "    transforms.RandomHorizontalFlip(),\n",
        "    transforms.ToTensor(),\n",
        "    transforms.Normalize(\n",
        "        mean=[0.485, 0.456, 0.406],\n",
        "        std=[0.229, 0.224, 0.225]\n",
        "    ),\n",
        "])\n",
        "\n",
        "test_transform = transforms.Compose([\n",
        "    transforms.Resize(236),\n",
        "    transforms.CenterCrop(224),\n",
        "    transforms.ToTensor(),\n",
        "    transforms.Normalize(\n",
        "        mean=[0.485, 0.456, 0.406],\n",
        "        std=[0.229, 0.224, 0.225]\n",
        "    ),\n",
        "])\n",
        "\n",
        "TRAIN_DIR = os.path.join(DATA_DIR, \"train\")\n",
        "\n",
        "full_train_dataset = datasets.ImageFolder(TRAIN_DIR, transform=train_transform)\n",
        "\n",
        "# Let's split 90% train / 10% validation\n",
        "train_len = int(0.9 * len(full_train_dataset))\n",
        "val_len = len(full_train_dataset) - train_len\n",
        "original_train_dataset, original_val_dataset = random_split(\n",
        "  full_train_dataset, [train_len, val_len],\n",
        "  generator=torch.Generator().manual_seed(42)  # For reproducibility!\n",
        ")\n",
        "\n",
        "def get_loaders(train_transform, test_transform, batch_size=256):\n",
        "    # re-apply appropriate transform to val_dataset\n",
        "    train_dataset = torch.utils.data.Subset(\n",
        "      datasets.ImageFolder(TRAIN_DIR, transform=train_transform),\n",
        "      original_train_dataset.indices\n",
        "    )\n",
        "    # re-apply appropriate transform to val_dataset\n",
        "    val_dataset = torch.utils.data.Subset(\n",
        "      datasets.ImageFolder(TRAIN_DIR, transform=test_transform),\n",
        "      original_val_dataset.indices\n",
        "    )\n",
        "\n",
        "\n",
        "    # --- Sample inspection: print sizes ---\n",
        "    print(f\"Train: {len(train_dataset)}, Val: {len(val_dataset)}\")\n",
        "    print(f\"Classes: {[IMAGENETTE_LABELS[c] for c in full_train_dataset.classes]}\")\n",
        "\n",
        "    # --- Set up DataLoaders ---\n",
        "    train_loader = DataLoader(train_dataset, batch_size=batch_size, shuffle=True, num_workers=2, pin_memory=True)\n",
        "    val_loader   = DataLoader(val_dataset,   batch_size=batch_size, shuffle=False, num_workers=2, pin_memory=True)\n",
        "    return train_loader, val_loader\n",
        "\n",
        "train_loader, val_loader = get_loaders(train_transform, test_transform)"
      ]
    },
    {
      "cell_type": "code",
      "execution_count": null,
      "metadata": {
        "id": "TCbXwcwjTpQI"
      },
      "outputs": [],
      "source": [
        "def train(\n",
        "        model, trainloader, valloader, device=None,\n",
        "        optimizer=None, criterion=None, scheduler=None,\n",
        "        num_epochs=10\n",
        "    ):\n",
        "\n",
        "    # setup\n",
        "    def_criterion = nn.CrossEntropyLoss(label_smoothing=0.1)\n",
        "\n",
        "    def_optimizer = torch.optim.AdamW(model.parameters(), lr=1e-3, weight_decay=0.05)\n",
        "    optimizer = optimizer or def_optimizer\n",
        "\n",
        "    def_scheduler = torch.optim.lr_scheduler.CosineAnnealingLR(optimizer, num_epochs)\n",
        "\n",
        "    scheduler = scheduler or def_scheduler\n",
        "    criterion = criterion or def_criterion\n",
        "\n",
        "    model = model.to(device)\n",
        "\n",
        "    history = {'train_loss': [], 'val_loss': [], 'train_acc': [], 'val_acc': []}\n",
        "    for epoch in tqdm.tqdm(range(num_epochs)):\n",
        "        # -- Train\n",
        "        model.train()\n",
        "        train_loss = train_acc = t_total = 0\n",
        "        for xb, yb in trainloader:\n",
        "            xb, yb = xb.to(device), yb.to(device)\n",
        "            optimizer.zero_grad()\n",
        "            out = model(xb)\n",
        "            loss = criterion(out, yb)\n",
        "            loss.backward()\n",
        "            optimizer.step()\n",
        "            train_loss += loss.item() * xb.size(0)\n",
        "            train_acc  += accuracy(out, yb) * xb.size(0)\n",
        "            t_total += xb.size(0)\n",
        "        train_loss /= t_total\n",
        "        train_acc  /= t_total\n",
        "\n",
        "        # -- Val\n",
        "        model.eval()\n",
        "        val_loss = val_acc = v_total = 0\n",
        "        with torch.no_grad():\n",
        "            for xb, yb in valloader:\n",
        "                xb, yb = xb.to(device), yb.to(device)\n",
        "                out = model(xb)\n",
        "                loss = criterion(out, yb)\n",
        "                val_loss += loss.item() * xb.size(0)\n",
        "                val_acc  += accuracy(out, yb) * xb.size(0)\n",
        "                v_total += xb.size(0)\n",
        "        val_loss /= v_total\n",
        "        val_acc  /= v_total\n",
        "\n",
        "        history['train_loss'].append(train_loss)\n",
        "        history['val_loss'].append(val_loss)\n",
        "        history['train_acc'].append(train_acc)\n",
        "        history['val_acc'].append(val_acc)\n",
        "        print(f\"Epoch {epoch+1:02}/{num_epochs} - \"\n",
        "              f\"Train loss: {train_loss:.4f}, acc: {train_acc:.4f} | \"\n",
        "              f\"Val loss: {val_loss:.4f}, acc: {val_acc:.4f}\")\n",
        "        scheduler.step()\n",
        "\n",
        "    # --- PLOTS ---\n",
        "    plt.figure(figsize=(12,5))\n",
        "    plt.subplot(1,2,1)\n",
        "    plt.plot(history['train_loss'], label='Train')\n",
        "    plt.plot(history['val_loss'], label='Val')\n",
        "    plt.title('Loss')\n",
        "    plt.legend()\n",
        "    plt.subplot(1,2,2)\n",
        "    plt.plot(history['train_acc'], label='Train')\n",
        "    plt.plot(history['val_acc'], label='Val')\n",
        "    plt.title('Accuracy')\n",
        "    plt.legend()\n",
        "    plt.show()\n",
        "\n",
        "def count_parameters(model):\n",
        "    return sum(p.numel() for p in model.parameters() if p.requires_grad)\n",
        "\n",
        "def accuracy(outputs, labels):\n",
        "    preds = outputs.argmax(dim=1)\n",
        "    return (preds == labels).float().mean().item()\n",
        "device = torch.device('cuda:0')"
      ]
    },
    {
      "cell_type": "markdown",
      "metadata": {
        "id": "0NhskVJLTpQJ"
      },
      "source": [
        "## 1. ConvNet (7 pts)"
      ]
    },
    {
      "cell_type": "markdown",
      "metadata": {
        "id": "75KdT_kBFsQr"
      },
      "source": [
        "### 1.a) ConvNet Implementation"
      ]
    },
    {
      "cell_type": "markdown",
      "metadata": {
        "id": "_8cZAcseJGa2"
      },
      "source": [
        "Implement a multi-layer Convolutional Neural Network (ConvNet). Specifically, we will work with a small ResNet model. The class is mostly already provided except for some indicated parts. You must implement these. Follow the original ResNet paper."
      ]
    },
    {
      "cell_type": "code",
      "execution_count": null,
      "metadata": {
        "id": "RSBSDpkANMvq"
      },
      "outputs": [],
      "source": [
        "class BasicBlock(nn.Module):\n",
        "    expansion = 1  # Output channels multiplier\n",
        "\n",
        "    def __init__(self, in_planes, planes, stride=1, downsample=None):\n",
        "        super().__init__()\n",
        "        self.conv1 = nn.Conv2d(in_planes, planes, kernel_size=3, stride=stride,\n",
        "                               padding=1, bias=False)\n",
        "        self.conv2 = nn.Conv2d(planes, planes, kernel_size=3, stride=1,\n",
        "                               padding=1, bias=False)\n",
        "        self.downsample = downsample\n",
        "        # ---- YOUR CODE STARTS HERE ---------- # no further Conv2d modules are needed\n",
        "        self.batch1 = nn.BatchNorm2d(planes)\n",
        "        self.batch2 = nn.BatchNorm2d(planes)\n",
        "        self.relu = nn.ReLU(inplace=True)\n",
        "        # ---- YOUR CODE ENDS HERE ----------\n",
        "\n",
        "    def forward(self, x):\n",
        "        # ---- YOUR CODE STARTS HERE ----------\n",
        "        # \"We adopt batch normalization (BN) right after each convolution and before activation\"\n",
        "        conv1_out = self.conv1(x)\n",
        "        batch1_out = self.batch1(conv1_out)\n",
        "        relu1_out = self.relu(batch1_out)\n",
        "        conv2_out = self.conv2(relu1_out)\n",
        "        batch2_out = self.batch2(conv2_out)\n",
        "\n",
        "        if self.downsample is not None: #Falls die ConvLayer zum Beispiel durch Stride den Output kleiner gemacht haben, muss x für residual conection gedownsapled werden\n",
        "            x = self.downsample(x)\n",
        "\n",
        "        rc_out = batch2_out + x\n",
        "        out = self.relu(rc_out)\n",
        "        # ---- YOUR CODE ENDS HERE ----------\n",
        "        return out\n",
        "\n",
        "\n",
        "class ResNet(nn.Module):\n",
        "    def __init__(self, block, layers, num_classes=10):\n",
        "        super().__init__()\n",
        "        self.base_in_planes = 32\n",
        "        self.in_planes = self.base_in_planes\n",
        "        self.conv1 = nn.Conv2d(3, self.base_in_planes, kernel_size=7, stride=2, padding=3, bias=False)\n",
        "        self.bn1 = nn.BatchNorm2d(self.base_in_planes)\n",
        "        self.relu = nn.ReLU(inplace=True)\n",
        "        self.maxpool = nn.MaxPool2d(3, stride=2, padding=1)\n",
        "        self.layer1 = self._make_layer(block, self.base_in_planes,  layers[0])\n",
        "        self.layer2 = self._make_layer(block, self.base_in_planes*2, layers[1], stride=2)\n",
        "        self.avgpool = nn.AdaptiveAvgPool2d((1, 1))\n",
        "\n",
        "        self.layer3 = self._make_layer(block, self.base_in_planes*4, layers[2], stride=2)\n",
        "        self.layer4 = self._make_layer(block, self.base_in_planes*8, layers[3], stride=2)\n",
        "        self.fc = nn.Linear(self.base_in_planes*8 * block.expansion, num_classes)\n",
        "\n",
        "\n",
        "\n",
        "        # Initialize parameters\n",
        "        for m in self.modules():\n",
        "            if isinstance(m, nn.Conv2d):\n",
        "                nn.init.kaiming_normal_(m.weight, mode='fan_out', nonlinearity='relu')\n",
        "            elif isinstance(m, nn.BatchNorm2d):\n",
        "                nn.init.constant_(m.weight, 1)\n",
        "                nn.init.constant_(m.bias, 0)\n",
        "\n",
        "    def _make_layer(self, block, planes, blocks, stride=1):\n",
        "        downsample = None\n",
        "        if stride != 1 or self.in_planes != planes * block.expansion:\n",
        "            downsample = nn.Sequential(\n",
        "                nn.Conv2d(self.in_planes, planes * block.expansion,\n",
        "                          kernel_size=1, stride=stride, bias=False),\n",
        "                nn.BatchNorm2d(planes * block.expansion)\n",
        "            )\n",
        "\n",
        "        layers = [block(self.in_planes, planes, stride, downsample)]\n",
        "        self.in_planes = planes * block.expansion\n",
        "        for _ in range(1, blocks):\n",
        "            layers.append(block(self.in_planes, planes))\n",
        "        return nn.Sequential(*layers)\n",
        "\n",
        "    def forward(self, x):\n",
        "        x = self.conv1(x)\n",
        "        x = self.bn1(x)\n",
        "        x = self.relu(x)\n",
        "        x = self.maxpool(x)\n",
        "        x = self.layer1(x)\n",
        "        x = self.layer2(x)\n",
        "        x = self.layer3(x)\n",
        "        x = self.layer4(x)\n",
        "        x = self.avgpool(x)\n",
        "        x = torch.flatten(x, 1)\n",
        "        x = self.fc(x)\n",
        "        return x\n",
        "\n",
        "def resnet18(num_classes=10):\n",
        "    # ResNet-18 = [2, 2, 2, 2] blocks per layer\n",
        "    return ResNet(BasicBlock, [2, 2, 2, 2], num_classes=num_classes)"
      ]
    },
    {
      "cell_type": "markdown",
      "metadata": {
        "id": "wHUmkz9lTpQK"
      },
      "source": [
        "### 1.b) ConvNet training"
      ]
    },
    {
      "cell_type": "markdown",
      "metadata": {
        "id": "ftZNJfJQ2_EF"
      },
      "source": [
        "#### 1.b)i. Train and evaluate"
      ]
    },
    {
      "cell_type": "markdown",
      "metadata": {
        "id": "VYc4NSRkJnFw"
      },
      "source": [
        "Training and evaluation code is also provided. You should run the training, which\n",
        "will output loss and accuracy curves on the training and validation sets. Train and validate your ResNet."
      ]
    },
    {
      "cell_type": "code",
      "execution_count": null,
      "metadata": {
        "colab": {
          "base_uri": "https://localhost:8080/",
          "height": 676
        },
        "id": "rVB6uXxCQdzd",
        "outputId": "870758fe-113c-4136-b820-ede1b34c7cbe",
        "scrolled": false
      },
      "outputs": [
        {
          "name": "stdout",
          "output_type": "stream",
          "text": [
            "Number of parameters in your ResNet-18: 2,801,450\n"
          ]
        },
        {
          "name": "stderr",
          "output_type": "stream",
          "text": [
            " 10%|█         | 1/10 [00:35<05:16, 35.13s/it]"
          ]
        },
        {
          "name": "stdout",
          "output_type": "stream",
          "text": [
            "Epoch 01/10 - Train loss: 1.9123, acc: 0.3805 | Val loss: 1.8596, acc: 0.4456\n"
          ]
        },
        {
          "name": "stderr",
          "output_type": "stream",
          "text": [
            "\r 20%|██        | 2/10 [01:07<04:26, 33.36s/it]"
          ]
        },
        {
          "name": "stdout",
          "output_type": "stream",
          "text": [
            "Epoch 02/10 - Train loss: 1.6237, acc: 0.5177 | Val loss: 1.6208, acc: 0.5312\n"
          ]
        },
        {
          "name": "stderr",
          "output_type": "stream",
          "text": [
            "\r 30%|███       | 3/10 [01:40<03:52, 33.26s/it]"
          ]
        },
        {
          "name": "stdout",
          "output_type": "stream",
          "text": [
            "Epoch 03/10 - Train loss: 1.4861, acc: 0.5800 | Val loss: 1.6101, acc: 0.5554\n"
          ]
        },
        {
          "name": "stderr",
          "output_type": "stream",
          "text": [
            "\r 40%|████      | 4/10 [02:12<03:16, 32.77s/it]"
          ]
        },
        {
          "name": "stdout",
          "output_type": "stream",
          "text": [
            "Epoch 04/10 - Train loss: 1.4181, acc: 0.6215 | Val loss: 1.5532, acc: 0.5829\n"
          ]
        },
        {
          "name": "stderr",
          "output_type": "stream",
          "text": [
            "\r 50%|█████     | 5/10 [02:45<02:44, 32.85s/it]"
          ]
        },
        {
          "name": "stdout",
          "output_type": "stream",
          "text": [
            "Epoch 05/10 - Train loss: 1.3421, acc: 0.6462 | Val loss: 1.2311, acc: 0.7138\n"
          ]
        },
        {
          "name": "stderr",
          "output_type": "stream",
          "text": [
            "\r 60%|██████    | 6/10 [03:18<02:12, 33.05s/it]"
          ]
        },
        {
          "name": "stdout",
          "output_type": "stream",
          "text": [
            "Epoch 06/10 - Train loss: 1.2809, acc: 0.6712 | Val loss: 1.1720, acc: 0.7212\n"
          ]
        },
        {
          "name": "stderr",
          "output_type": "stream",
          "text": [
            "\r 70%|███████   | 7/10 [03:51<01:39, 33.04s/it]"
          ]
        },
        {
          "name": "stdout",
          "output_type": "stream",
          "text": [
            "Epoch 07/10 - Train loss: 1.2256, acc: 0.6947 | Val loss: 1.1259, acc: 0.7582\n"
          ]
        },
        {
          "name": "stderr",
          "output_type": "stream",
          "text": [
            "\r 80%|████████  | 8/10 [04:24<01:05, 32.80s/it]"
          ]
        },
        {
          "name": "stdout",
          "output_type": "stream",
          "text": [
            "Epoch 08/10 - Train loss: 1.1963, acc: 0.7166 | Val loss: 1.0948, acc: 0.7666\n"
          ]
        },
        {
          "name": "stderr",
          "output_type": "stream",
          "text": [
            "\r 90%|█████████ | 9/10 [04:57<00:32, 32.92s/it]"
          ]
        },
        {
          "name": "stdout",
          "output_type": "stream",
          "text": [
            "Epoch 09/10 - Train loss: 1.1629, acc: 0.7231 | Val loss: 1.0419, acc: 0.7951\n"
          ]
        },
        {
          "name": "stderr",
          "output_type": "stream",
          "text": [
            "100%|██████████| 10/10 [05:29<00:00, 32.98s/it]"
          ]
        },
        {
          "name": "stdout",
          "output_type": "stream",
          "text": [
            "Epoch 10/10 - Train loss: 1.1416, acc: 0.7388 | Val loss: 1.0371, acc: 0.8015\n"
          ]
        },
        {
          "name": "stderr",
          "output_type": "stream",
          "text": [
            "\n"
          ]
        },
        {
          "data": {
            "image/png": "[encoded data removed]",
            "text/plain": [
              "<Figure size 1200x500 with 2 Axes>"
            ]
          },
          "metadata": {},
          "output_type": "display_data"
        }
      ],
      "source": [
        "resnet_model = resnet18(num_classes=len(train_loader.dataset.dataset.classes)).to(device)\n",
        "print(f\"Number of parameters in your ResNet-18: {count_parameters(resnet_model):,}\")\n",
        "\n",
        "train(resnet_model, train_loader, val_loader, device, num_epochs=NUM_EPOCHS)"
      ]
    },
    {
      "cell_type": "markdown",
      "metadata": {
        "id": "iMUXXR2eF-Mr"
      },
      "source": [
        "#### 1.b)ii. Fix the evaluation"
      ]
    },
    {
      "cell_type": "markdown",
      "metadata": {
        "id": "jx7tCxL7JrlS"
      },
      "source": [
        "You might observe that the training accuracy and loss are worse than or very close to those for validation.\n",
        "\n",
        "Correct the mistakes of the current evaluation that you observe."
      ]
    },
    {
      "cell_type": "code",
      "execution_count": null,
      "metadata": {
        "colab": {
          "base_uri": "https://localhost:8080/",
          "height": 211
        },
        "id": "fqTpxt1pTpQM",
        "outputId": "a9da4acd-e568-4fa7-da2b-f78fb1de7be8"
      },
      "outputs": [
        {
          "output_type": "error",
          "ename": "NameError",
          "evalue": "name 'resnet_model' is not defined",
          "traceback": [
            "\u001b[0;31m---------------------------------------------------------------------------\u001b[0m",
            "\u001b[0;31mNameError\u001b[0m                                 Traceback (most recent call last)",
            "\u001b[0;32m<ipython-input-5-44faa0553ae3>\u001b[0m in \u001b[0;36m<cell line: 0>\u001b[0;34m()\u001b[0m\n\u001b[1;32m     15\u001b[0m     \u001b[0;32mreturn\u001b[0m \u001b[0mtotal_loss\u001b[0m \u001b[0;34m/\u001b[0m \u001b[0mtotal_items\u001b[0m\u001b[0;34m,\u001b[0m \u001b[0mtotal_acc\u001b[0m \u001b[0;34m/\u001b[0m \u001b[0mtotal_items\u001b[0m\u001b[0;34m\u001b[0m\u001b[0;34m\u001b[0m\u001b[0m\n\u001b[1;32m     16\u001b[0m \u001b[0;34m\u001b[0m\u001b[0m\n\u001b[0;32m---> 17\u001b[0;31m \u001b[0mtrain_loss_wrong\u001b[0m\u001b[0;34m,\u001b[0m \u001b[0mtrain_acc_wrong\u001b[0m \u001b[0;34m=\u001b[0m \u001b[0mevaluate\u001b[0m\u001b[0;34m(\u001b[0m\u001b[0mresnet_model\u001b[0m\u001b[0;34m,\u001b[0m \u001b[0mtrain_loader\u001b[0m\u001b[0;34m,\u001b[0m \u001b[0mdevice\u001b[0m\u001b[0;34m)\u001b[0m\u001b[0;34m\u001b[0m\u001b[0;34m\u001b[0m\u001b[0m\n\u001b[0m\u001b[1;32m     18\u001b[0m \u001b[0;34m\u001b[0m\u001b[0m\n\u001b[1;32m     19\u001b[0m \u001b[0;34m\u001b[0m\u001b[0m\n",
            "\u001b[0;31mNameError\u001b[0m: name 'resnet_model' is not defined"
          ]
        }
      ],
      "source": [
        "from xml.etree.ElementTree import TreeBuilder\n",
        "def evaluate(model, loader, device):\n",
        "    model.eval()\n",
        "    total_loss, total_acc, total_items = 0, 0, 0\n",
        "    with torch.no_grad():\n",
        "        for xb, yb in loader:\n",
        "            xb, yb = xb.to(device), yb.to(device)\n",
        "            logits = model(xb)\n",
        "            loss = nn.functional.cross_entropy(logits, yb)\n",
        "            pred = logits.argmax(dim=1)\n",
        "            acc = (pred == yb).float().sum().item()\n",
        "            total_loss += loss.item() * xb.size(0)\n",
        "            total_acc += acc\n",
        "            total_items += xb.size(0)\n",
        "    return total_loss / total_items, total_acc / total_items\n",
        "\n",
        "train_loss_wrong, train_acc_wrong = evaluate(resnet_model, train_loader, device)\n",
        "\n",
        "\n",
        "# ---- YOUR CODE STARTS HERE ----------\n",
        "#train_loader wird so erstellt:\n",
        "\n",
        "#train_dataset = torch.utils.data.Subset(\n",
        "#  datasets.ImageFolder(TRAIN_DIR, transform=train_transform),\n",
        "#  original_train_dataset.indices\n",
        "#  )\n",
        "#train_loader = DataLoader(train_dataset, batch_size=batch_size, shuffle=True, num_workers=2, pin_memory=True)\n",
        "\n",
        "#Problem: train_loader wird zu evaluation genutzt. Die Daten in train_loader wurden aber random transformiert, durch train_transform.\n",
        "# Bei der Evaluation will man aber die Trainingsdaten nutzen und nicht neue Daten durch durch random Transformierung erstellt wurden.\n",
        "#Lösung: neuer Loader \"eval_loader\", der genauso wie train_loader erstellt wird, nur ohne random transformationen.\n",
        "# Dafür wird die deterministische Transformation train_transform genutzt\n",
        "\n",
        "eval_dataset = torch.utils.data.Subset(\n",
        "  datasets.ImageFolder(TRAIN_DIR, transform=test_transform),\n",
        "  original_train_dataset.indices\n",
        ")\n",
        "eval_loader = DataLoader(eval_dataset, batch_size = 256, shuffle=True, num_workers=2, pin_memory=True)\n",
        "\n",
        "train_loss, train_acc = evaluate(resnet_model, eval_loader, device)\n",
        "\n",
        "# ---- YOUR CODE ENDS HERE ----------\n",
        "\n",
        "\n",
        "print(f'Using correct evaluation:     loss {train_loss:.4f}, acc {train_acc:.4f}')\n",
        "print(f'Using incorrect evaluation:   loss {train_loss_wrong:.4f}, acc {train_acc_wrong:.4f}')"
      ]
    },
    {
      "cell_type": "markdown",
      "metadata": {
        "id": "uYMiaLQ3TpQN"
      },
      "source": [
        "### 1.c) Experiment with the order of operations in the ConvNet block"
      ]
    },
    {
      "cell_type": "markdown",
      "metadata": {
        "id": "-gqVQ1mqJ3h_"
      },
      "source": [
        "We instantiate two new blocks, `BasicBlockv2`\n",
        "and `BasicBlockv3`.\n",
        "\n",
        "Complete the **\\_\\_init\\_\\_()** and **forward()** methods of each of the two classes. In each case, the\n",
        "implementation should be distinct, by modifying the order of operations in the original `BasicBlock`.\n",
        "\n",
        "Train and evaluate these models with the existing code."
      ]
    },
    {
      "cell_type": "code",
      "execution_count": null,
      "metadata": {
        "id": "JOOBhaW3TpQN"
      },
      "outputs": [],
      "source": [
        "import torch\n",
        "import torch.nn as nn\n",
        "import torch.nn.functional as F\n",
        "\n",
        "class BasicBlockv2(nn.Module):\n",
        "    expansion = 1  # Output channels multiplier\n",
        "\n",
        "    def __init__(self, in_planes, planes, stride=1, downsample=None):\n",
        "        super().__init__()\n",
        "        self.conv1 = nn.Conv2d(in_planes, planes, kernel_size=3, stride=stride,\n",
        "                               padding=1, bias=False)\n",
        "        self.conv2 = nn.Conv2d(planes, planes, kernel_size=3, stride=1,\n",
        "                               padding=1, bias=False)\n",
        "        self.downsample = downsample\n",
        "        # ---- YOUR CODE STARTS HERE ----------\n",
        "        self.batch1 = nn.BatchNorm2d(planes)\n",
        "        self.batch2 = nn.BatchNorm2d(planes)\n",
        "        self.relu = nn.ReLU(inplace=True)\n",
        "        # ---- YOUR CODE ENDS HERE ----------\n",
        "\n",
        "    def forward(self, x):\n",
        "        # ---- YOUR CODE STARTS HERE ----------\n",
        "        #Double-Conv\n",
        "        #normal: conv -> bnorm -> relu -> conv -> bnorm -> rc -> relu\n",
        "        #now:    conv -> bnorm -> conv -> bnorm -> relu -> rc -> relu\n",
        "        identity = x\n",
        "\n",
        "        x = self.conv1(x)\n",
        "        x = self.batch1(x)\n",
        "        x = self.conv2(x)\n",
        "        x = self.batch2(x)\n",
        "        x = self.relu(x)\n",
        "\n",
        "        if self.downsample:\n",
        "          identity = self.downsample(identity)\n",
        "\n",
        "        x = x + identity\n",
        "        out = self.relu(x)\n",
        "        # ---- YOUR CODE ENDS HERE ----------\n",
        "        return out\n",
        "\n",
        "\n",
        "def resnet18v2(num_classes=10):\n",
        "    # ResNet-18 = [2, 2, 2, 2] blocks per layer\n",
        "    return ResNet(BasicBlockv2, [2, 2, 2, 2], num_classes=num_classes)"
      ]
    },
    {
      "cell_type": "code",
      "execution_count": null,
      "metadata": {
        "colab": {
          "base_uri": "https://localhost:8080/",
          "height": 611
        },
        "id": "nwSLZlucTpQO",
        "outputId": "558743f7-32f7-49fa-bfe2-8160eb495b0b",
        "scrolled": false
      },
      "outputs": [
        {
          "output_type": "stream",
          "name": "stderr",
          "text": [
            " 10%|█         | 1/10 [00:34<05:12, 34.67s/it]"
          ]
        },
        {
          "output_type": "stream",
          "name": "stdout",
          "text": [
            "Epoch 01/10 - Train loss: 2.0610, acc: 0.3255 | Val loss: 2.0337, acc: 0.3970\n"
          ]
        },
        {
          "output_type": "stream",
          "name": "stderr",
          "text": [
            "\r 20%|██        | 2/10 [01:06<04:23, 32.91s/it]"
          ]
        },
        {
          "output_type": "stream",
          "name": "stdout",
          "text": [
            "Epoch 02/10 - Train loss: 1.7370, acc: 0.4647 | Val loss: 1.6513, acc: 0.5343\n"
          ]
        },
        {
          "output_type": "stream",
          "name": "stderr",
          "text": [
            "\r 30%|███       | 3/10 [01:37<03:45, 32.17s/it]"
          ]
        },
        {
          "output_type": "stream",
          "name": "stdout",
          "text": [
            "Epoch 03/10 - Train loss: 1.5836, acc: 0.5429 | Val loss: 1.5591, acc: 0.5480\n"
          ]
        },
        {
          "output_type": "stream",
          "name": "stderr",
          "text": [
            "\r 40%|████      | 4/10 [02:09<03:13, 32.21s/it]"
          ]
        },
        {
          "output_type": "stream",
          "name": "stdout",
          "text": [
            "Epoch 04/10 - Train loss: 1.4887, acc: 0.5792 | Val loss: 1.3367, acc: 0.6473\n"
          ]
        },
        {
          "output_type": "stream",
          "name": "stderr",
          "text": [
            "\r 50%|█████     | 5/10 [02:41<02:39, 31.88s/it]"
          ]
        },
        {
          "output_type": "stream",
          "name": "stdout",
          "text": [
            "Epoch 05/10 - Train loss: 1.3960, acc: 0.6285 | Val loss: 1.2834, acc: 0.6610\n"
          ]
        },
        {
          "output_type": "stream",
          "name": "stderr",
          "text": [
            "\r 60%|██████    | 6/10 [03:13<02:07, 31.91s/it]"
          ]
        },
        {
          "output_type": "stream",
          "name": "stdout",
          "text": [
            "Epoch 06/10 - Train loss: 1.3462, acc: 0.6400 | Val loss: 1.2359, acc: 0.7022\n"
          ]
        },
        {
          "output_type": "stream",
          "name": "stderr",
          "text": [
            "\r 70%|███████   | 7/10 [03:44<01:34, 31.60s/it]"
          ]
        },
        {
          "output_type": "stream",
          "name": "stdout",
          "text": [
            "Epoch 07/10 - Train loss: 1.3002, acc: 0.6723 | Val loss: 1.1712, acc: 0.7202\n"
          ]
        },
        {
          "output_type": "stream",
          "name": "stderr",
          "text": [
            "\r 80%|████████  | 8/10 [04:15<01:03, 31.65s/it]"
          ]
        },
        {
          "output_type": "stream",
          "name": "stdout",
          "text": [
            "Epoch 08/10 - Train loss: 1.2510, acc: 0.6862 | Val loss: 1.1134, acc: 0.7561\n"
          ]
        },
        {
          "output_type": "stream",
          "name": "stderr",
          "text": [
            "\r 90%|█████████ | 9/10 [04:48<00:32, 32.05s/it]"
          ]
        },
        {
          "output_type": "stream",
          "name": "stdout",
          "text": [
            "Epoch 09/10 - Train loss: 1.2202, acc: 0.7004 | Val loss: 1.0960, acc: 0.7656\n"
          ]
        },
        {
          "output_type": "stream",
          "name": "stderr",
          "text": [
            "100%|██████████| 10/10 [05:21<00:00, 32.18s/it]"
          ]
        },
        {
          "output_type": "stream",
          "name": "stdout",
          "text": [
            "Epoch 10/10 - Train loss: 1.1904, acc: 0.7161 | Val loss: 1.0792, acc: 0.7698\n"
          ]
        },
        {
          "output_type": "stream",
          "name": "stderr",
          "text": [
            "\n"
          ]
        },
        {
          "output_type": "display_data",
          "data": {
            "text/plain": [
              "<Figure size 1200x500 with 2 Axes>"
            ],
            "image/png": "[encoded data removed]"
          },
          "metadata": {}
        }
      ],
      "source": [
        "resnet_model = resnet18v2(num_classes=10)\n",
        "train(resnet_model, train_loader, val_loader, device, num_epochs=NUM_EPOCHS)"
      ]
    },
    {
      "cell_type": "code",
      "execution_count": null,
      "metadata": {
        "id": "cQ5QxkmVTpQP"
      },
      "outputs": [],
      "source": [
        "class BasicBlockv3(nn.Module):\n",
        "    expansion = 1  # Output channels multiplier\n",
        "\n",
        "    def __init__(self, in_planes, planes, stride=1, downsample=None):\n",
        "        super().__init__()\n",
        "        self.conv1 = nn.Conv2d(in_planes, planes, kernel_size=3, stride=stride,\n",
        "                               padding=1, bias=False)\n",
        "        self.conv2 = nn.Conv2d(planes, planes, kernel_size=3, stride=1,\n",
        "                               padding=1, bias=False)\n",
        "        self.downsample = downsample\n",
        "        # ---- YOUR CODE STARTS HERE ----------\n",
        "        self.batch1 = nn.BatchNorm2d(planes)\n",
        "        self.batch2 = nn.BatchNorm2d(planes)\n",
        "        self.relu = nn.ReLU(inplace=True)\n",
        "        # ---- YOUR CODE ENDS HERE ----------\n",
        "\n",
        "    def forward(self, x):\n",
        "        # ---- YOUR CODE STARTS HERE ----------\n",
        "        #relu before rc\n",
        "        #normal: conv -> bnorm -> relu -> conv -> bnorm -> rc -> relu\n",
        "        #new:    conv -> bnorm -> relu -> conv -> bnorm -> relu -> rc\n",
        "        out = self.conv1(x)\n",
        "        out = self.batch1(out)\n",
        "        out = self.relu(out)\n",
        "        out = self.conv2(out)\n",
        "        out = self.batch2(out)\n",
        "        out = self.relu(out)\n",
        "\n",
        "        if self.downsample is not None:\n",
        "            x = self.downsample(x)\n",
        "\n",
        "        out = x + out\n",
        "        # ---- YOUR CODE ENDS HERE ----------\n",
        "        return out\n",
        "\n",
        "\n",
        "def resnet18v3(num_classes=10):\n",
        "    # ResNet-18 = [2, 2, 2, 2] blocks per layer\n",
        "    return ResNet(BasicBlockv3, [2, 2, 2, 2], num_classes=num_classes)"
      ]
    },
    {
      "cell_type": "code",
      "execution_count": null,
      "metadata": {
        "colab": {
          "base_uri": "https://localhost:8080/",
          "height": 611
        },
        "id": "M1FVpb8mTpQP",
        "scrolled": false,
        "outputId": "cf547396-8a66-40e7-e026-e948b5994932"
      },
      "outputs": [
        {
          "output_type": "stream",
          "name": "stderr",
          "text": [
            " 10%|█         | 1/10 [00:32<04:52, 32.53s/it]"
          ]
        },
        {
          "output_type": "stream",
          "name": "stdout",
          "text": [
            "Epoch 01/10 - Train loss: 1.8917, acc: 0.4005 | Val loss: 1.8076, acc: 0.4340\n"
          ]
        },
        {
          "output_type": "stream",
          "name": "stderr",
          "text": [
            "\r 20%|██        | 2/10 [01:04<04:16, 32.03s/it]"
          ]
        },
        {
          "output_type": "stream",
          "name": "stdout",
          "text": [
            "Epoch 02/10 - Train loss: 1.6240, acc: 0.5258 | Val loss: 1.7141, acc: 0.4805\n"
          ]
        },
        {
          "output_type": "stream",
          "name": "stderr",
          "text": [
            "\r 30%|███       | 3/10 [01:36<03:45, 32.15s/it]"
          ]
        },
        {
          "output_type": "stream",
          "name": "stdout",
          "text": [
            "Epoch 03/10 - Train loss: 1.4927, acc: 0.5877 | Val loss: 1.3714, acc: 0.6547\n"
          ]
        },
        {
          "output_type": "stream",
          "name": "stderr",
          "text": [
            "\r 40%|████      | 4/10 [02:08<03:11, 31.94s/it]"
          ]
        },
        {
          "output_type": "stream",
          "name": "stdout",
          "text": [
            "Epoch 04/10 - Train loss: 1.4144, acc: 0.6203 | Val loss: 1.2903, acc: 0.6800\n"
          ]
        },
        {
          "output_type": "stream",
          "name": "stderr",
          "text": [
            "\r 50%|█████     | 5/10 [02:40<02:40, 32.05s/it]"
          ]
        },
        {
          "output_type": "stream",
          "name": "stdout",
          "text": [
            "Epoch 05/10 - Train loss: 1.3412, acc: 0.6459 | Val loss: 1.4170, acc: 0.6357\n"
          ]
        },
        {
          "output_type": "stream",
          "name": "stderr",
          "text": [
            "\r 60%|██████    | 6/10 [03:11<02:07, 31.82s/it]"
          ]
        },
        {
          "output_type": "stream",
          "name": "stdout",
          "text": [
            "Epoch 06/10 - Train loss: 1.2828, acc: 0.6755 | Val loss: 1.1453, acc: 0.7371\n"
          ]
        },
        {
          "output_type": "stream",
          "name": "stderr",
          "text": [
            "\r 70%|███████   | 7/10 [03:44<01:36, 32.05s/it]"
          ]
        },
        {
          "output_type": "stream",
          "name": "stdout",
          "text": [
            "Epoch 07/10 - Train loss: 1.2219, acc: 0.7007 | Val loss: 1.1446, acc: 0.7360\n"
          ]
        },
        {
          "output_type": "stream",
          "name": "stderr",
          "text": [
            "\r 80%|████████  | 8/10 [04:15<01:03, 31.83s/it]"
          ]
        },
        {
          "output_type": "stream",
          "name": "stdout",
          "text": [
            "Epoch 08/10 - Train loss: 1.1852, acc: 0.7187 | Val loss: 1.0632, acc: 0.7814\n"
          ]
        },
        {
          "output_type": "stream",
          "name": "stderr",
          "text": [
            "\r 90%|█████████ | 9/10 [04:49<00:32, 32.35s/it]"
          ]
        },
        {
          "output_type": "stream",
          "name": "stdout",
          "text": [
            "Epoch 09/10 - Train loss: 1.1524, acc: 0.7359 | Val loss: 1.0653, acc: 0.7782\n"
          ]
        },
        {
          "output_type": "stream",
          "name": "stderr",
          "text": [
            "100%|██████████| 10/10 [05:20<00:00, 32.02s/it]"
          ]
        },
        {
          "output_type": "stream",
          "name": "stdout",
          "text": [
            "Epoch 10/10 - Train loss: 1.1380, acc: 0.7415 | Val loss: 1.0226, acc: 0.8089\n"
          ]
        },
        {
          "output_type": "stream",
          "name": "stderr",
          "text": [
            "\n"
          ]
        },
        {
          "output_type": "display_data",
          "data": {
            "text/plain": [
              "<Figure size 1200x500 with 2 Axes>"
            ],
            "image/png": "[encoded data removed]"
          },
          "metadata": {}
        }
      ],
      "source": [
        "resnet_model = resnet18v3(num_classes=10)\n",
        "train(resnet_model, train_loader, val_loader, device, num_epochs=NUM_EPOCHS)"
      ]
    },
    {
      "cell_type": "markdown",
      "metadata": {
        "id": "rZaFgqrVTpQQ"
      },
      "source": [
        "## 2. ViT (6 points)"
      ]
    },
    {
      "cell_type": "markdown",
      "metadata": {
        "id": "OaJZ_d5CGNrx"
      },
      "source": [
        "### 2.a) ViT implementation"
      ]
    },
    {
      "cell_type": "markdown",
      "metadata": {
        "id": "t4GLcwZsNacp"
      },
      "source": [
        "We have provided the skeleton of a Vision Transformer (ViT). The\n",
        "classes are missing parts of the constructor and/or forward methods, which you must complete. Follow the original ViT paper architecture."
      ]
    },
    {
      "cell_type": "code",
      "execution_count": null,
      "metadata": {
        "id": "r7vi3SnrpfF8"
      },
      "outputs": [],
      "source": [
        "import torch\n",
        "import torch.nn as nn\n",
        "import math\n",
        "\n",
        "class PatchEmbed(nn.Module):\n",
        "    \"\"\"Divide image into patches, project to embedding.\"\"\"\n",
        "    def __init__(self, img_size=224, patch_size=32, in_chans=3, embed_dim=192):\n",
        "        super().__init__()\n",
        "        self.grid_size = img_size // patch_size\n",
        "        self.num_patches = self.grid_size * self.grid_size\n",
        "        self.proj = nn.Conv2d(in_chans, embed_dim, kernel_size=patch_size, stride=patch_size)\n",
        "\n",
        "    def forward(self, x):\n",
        "        # x: [B, 3, H, W] -> [B, embed_dim, grid, grid] -> [B, num_patches, embed_dim]\n",
        "        x = self.proj(x)\n",
        "        x = x.flatten(2).transpose(1,2)\n",
        "        return x  # [B, num_patches, embed_dim]\n",
        "\n",
        "class MLP(nn.Module):\n",
        "    def __init__(self, in_features, hidden_features=None, out_features=None, p=0.):\n",
        "        super().__init__()\n",
        "        out_features = out_features or in_features\n",
        "        hidden_features = hidden_features or in_features\n",
        "\n",
        "        # ---- YOUR CODE STARTS HERE ----------\n",
        "        #\"The MLP contains two layers with a GELU non-linearity.\" p.4\n",
        "        self.linear1 = nn.Linear(in_features, hidden_features)\n",
        "        self.linear2 = nn.Linear(hidden_features, out_features)\n",
        "        self.gelu = nn.GELU()\n",
        "        self.dropout = nn.Dropout(p)\n",
        "        # ---- YOUR CODE ENDS HERE ----------\n",
        "\n",
        "    def forward(self, x):\n",
        "        # ---- YOUR CODE STARTS HERE ----------\n",
        "        x = self.linear1(x)\n",
        "        x = self.gelu(x)\n",
        "        x = self.dropout(x)\n",
        "        x = self.linear2(x)\n",
        "        x = self.gelu(x)\n",
        "        x = self.dropout(x) #dropout_layer because we have an p?????\n",
        "        # ---- YOUR CODE ENDS HERE ----------\n",
        "        return x\n",
        "\n",
        "class Attention(nn.Module):\n",
        "    def __init__(self, dim, num_heads=3, qkv_bias=True, attn_drop=0., proj_drop=0.):\n",
        "        super().__init__()\n",
        "        self.num_heads = num_heads\n",
        "        head_dim = dim // num_heads\n",
        "        self.scale = head_dim ** -0.5\n",
        "        # ---- YOUR CODE STARTS HERE ----------\n",
        "\n",
        "        self.q_lin = nn.Linear(dim, dim, bias = qkv_bias)\n",
        "        self.k_lin = nn.Linear(dim, dim, bias = qkv_bias)\n",
        "        self.v_lin = nn.Linear(dim, dim, bias = qkv_bias)\n",
        "        self.attn_drp = nn.Dropout(attn_drop)\n",
        "        self.proj_lin = nn.Linear(dim, dim)\n",
        "        self.proj_drp = nn.Dropout(proj_drop)\n",
        "\n",
        "        # ---- YOUR CODE ENDS HERE ----------\n",
        "\n",
        "    def forward(self, x):\n",
        "        B, N, C = x.shape #batch,tokens,feature\n",
        "        # ---- YOUR CODE STARTS HERE ----------\n",
        "\n",
        "        q = self.q_lin(x)\n",
        "        k = self.k_lin(x)\n",
        "        v = self.v_lin(x)\n",
        "\n",
        "        q = q.reshape(B, N, C // self.num_heads, self.num_heads) #[B,N,C,H]\n",
        "        q = q.permute(0, 3, 1, 2)                                #[B,H,N,C] (Standard)\n",
        "        k = k.reshape(B, N, C // self.num_heads, self.num_heads)\n",
        "        k = k.permute(0, 3, 1, 2)\n",
        "        v = v.reshape(B, N, C // self.num_heads, self.num_heads)\n",
        "        v = v.permute(0, 3, 1, 2)\n",
        "\n",
        "\n",
        "\n",
        "        attn = torch.matmul(q, k.transpose(-2, -1)) / math.sqrt(C // self.num_heads) #V2 S.63\n",
        "        attn = torch.softmax(attn, dim=-1)\n",
        "        out = torch.matmul(attn, v)\n",
        "\n",
        "        out = out.transpose(1, 2)   #[B,H,N,C] -> [B,N,H,C]\n",
        "        out = out.reshape(B, N, C)  #[B,N,H,C] -> [B,N,C=HxC] (macht Reshape automatisch)\n",
        "        out = self.proj_lin(out)\n",
        "        out = self.proj_drp(out)\n",
        "\n",
        "        # ---- YOUR CODE ENDS HERE ----------\n",
        "        return out\n",
        "\n",
        "class Block(nn.Module):\n",
        "    def __init__(self, dim, num_heads, mlp_ratio=4., qkv_bias=True, p=0., attn_p=0.):\n",
        "        super().__init__()\n",
        "        self.attn = Attention(dim, num_heads, qkv_bias, attn_drop=attn_p, proj_drop=p)\n",
        "        self.mlp = MLP(dim, int(dim*mlp_ratio), p=p)\n",
        "        # ---- YOUR CODE STARTS HERE ----------\n",
        "        self.norm1 = nn.LayerNorm(dim)\n",
        "        self.norm2 = nn.LayerNorm(dim)\n",
        "        # ---- YOUR CODE ENDS HERE ----------\n",
        "\n",
        "    def forward(self, x):\n",
        "        # ---- YOUR CODE STARTS HERE ----------\n",
        "        #The Transformer encoder consists of alternating layers of multiheaded self-attention and MLP blocks\n",
        "        # Layernorm is applied before every block, and residual connections after every block. S.3\n",
        "        x = x + self.attn(self.norm1(x)) #1.norm 2.attn 3.RC\n",
        "\n",
        "        x = x + self.mlp(self.norm2(x))\n",
        "        # ---- YOUR CODE ENDS HERE ----------\n",
        "        return x\n",
        "\n",
        "class ViT(nn.Module):\n",
        "    def __init__(self, img_size=224, patch_size=32, in_chans=3, num_classes=10,\n",
        "                 embed_dim=128,\n",
        "                 depth=12,\n",
        "                 num_heads=4,\n",
        "                 mlp_ratio=4., qkv_bias=True, p=0., attn_p=0., block=Block):\n",
        "        super().__init__()\n",
        "        self.patch_embed = PatchEmbed(img_size, patch_size, in_chans, embed_dim)\n",
        "        num_patches = self.patch_embed.num_patches\n",
        "        self.pos_embed = nn.Parameter(torch.zeros(1, num_patches, embed_dim))\n",
        "        self.pos_drop = nn.Dropout(p=p)\n",
        "        self.blocks = nn.Sequential(*[\n",
        "            block(embed_dim, num_heads, mlp_ratio, qkv_bias, p=p, attn_p=attn_p)\n",
        "            for _ in range(depth)\n",
        "        ])\n",
        "        self.norm = nn.LayerNorm(embed_dim)\n",
        "        self.head = nn.Linear(embed_dim, num_classes)\n",
        "\n",
        "        nn.init.trunc_normal_(self.pos_embed, std=0.02)\n",
        "\n",
        "    def forward(self, x):\n",
        "        # ---- YOUR CODE STARTS HERE ----------\n",
        "        #1.Patches\n",
        "        #2.Patch + Postition Embedding\n",
        "        #(Dropout)\n",
        "        #3. Transformer-Encoder\n",
        "        x = self.patch_embed(x)\n",
        "        x = x + self.pos_embed\n",
        "        x = self.pos_drop(x)\n",
        "        x = self.blocks(x)\n",
        "        x = self.norm(x) #Steht nicht im Paper, oder? self.norm existiert aber\n",
        "\n",
        "        # ---- YOUR CODE ENDS HERE ----------\n",
        "        pooled = x.mean(dim=1)  # [B, embed_dim]\n",
        "        return self.head(pooled)"
      ]
    },
    {
      "cell_type": "markdown",
      "metadata": {
        "id": "xdPyUwUTGSgF"
      },
      "source": [
        "### 2.b) Train and evaluate the ViT"
      ]
    },
    {
      "cell_type": "markdown",
      "metadata": {
        "id": "ZmZJ4GCeOLNW"
      },
      "source": [
        "Use the same training and evaluation functions. Train and validate your ViT."
      ]
    },
    {
      "cell_type": "code",
      "execution_count": null,
      "metadata": {
        "colab": {
          "base_uri": "https://localhost:8080/",
          "height": 676
        },
        "id": "ewVx79XbTpQR",
        "outputId": "c1cbb02e-d46f-4428-f995-c0e537fd8e04",
        "scrolled": true
      },
      "outputs": [
        {
          "name": "stdout",
          "output_type": "stream",
          "text": [
            "Number of parameters in your ViT: 2,780,426\n"
          ]
        },
        {
          "name": "stderr",
          "output_type": "stream",
          "text": [
            " 10%|█         | 1/10 [00:31<04:43, 31.55s/it]"
          ]
        },
        {
          "name": "stdout",
          "output_type": "stream",
          "text": [
            "Epoch 01/10 - Train loss: 2.1732, acc: 0.2424 | Val loss: 2.0897, acc: 0.2841\n"
          ]
        },
        {
          "name": "stderr",
          "output_type": "stream",
          "text": [
            "\r 20%|██        | 2/10 [01:02<04:09, 31.24s/it]"
          ]
        },
        {
          "name": "stdout",
          "output_type": "stream",
          "text": [
            "Epoch 02/10 - Train loss: 2.0727, acc: 0.2968 | Val loss: 2.0288, acc: 0.3052\n"
          ]
        },
        {
          "name": "stderr",
          "output_type": "stream",
          "text": [
            "\r 30%|███       | 3/10 [01:32<03:35, 30.81s/it]"
          ]
        },
        {
          "name": "stdout",
          "output_type": "stream",
          "text": [
            "Epoch 03/10 - Train loss: 2.0073, acc: 0.3263 | Val loss: 1.9547, acc: 0.3358\n"
          ]
        },
        {
          "name": "stderr",
          "output_type": "stream",
          "text": [
            "\r 40%|████      | 4/10 [02:04<03:06, 31.09s/it]"
          ]
        },
        {
          "name": "stdout",
          "output_type": "stream",
          "text": [
            "Epoch 04/10 - Train loss: 1.9220, acc: 0.3703 | Val loss: 1.8709, acc: 0.3928\n"
          ]
        },
        {
          "name": "stderr",
          "output_type": "stream",
          "text": [
            "\r 50%|█████     | 5/10 [02:34<02:34, 30.91s/it]"
          ]
        },
        {
          "name": "stdout",
          "output_type": "stream",
          "text": [
            "Epoch 05/10 - Train loss: 1.8438, acc: 0.4035 | Val loss: 1.7658, acc: 0.4530\n"
          ]
        },
        {
          "name": "stderr",
          "output_type": "stream",
          "text": [
            "\r 60%|██████    | 6/10 [03:05<02:02, 30.73s/it]"
          ]
        },
        {
          "name": "stdout",
          "output_type": "stream",
          "text": [
            "Epoch 06/10 - Train loss: 1.7643, acc: 0.4438 | Val loss: 1.7116, acc: 0.4815\n"
          ]
        },
        {
          "name": "stderr",
          "output_type": "stream",
          "text": [
            "\r 70%|███████   | 7/10 [03:36<01:32, 30.88s/it]"
          ]
        },
        {
          "name": "stdout",
          "output_type": "stream",
          "text": [
            "Epoch 07/10 - Train loss: 1.7258, acc: 0.4683 | Val loss: 1.6918, acc: 0.4794\n"
          ]
        },
        {
          "name": "stderr",
          "output_type": "stream",
          "text": [
            "\r 80%|████████  | 8/10 [04:06<01:01, 30.63s/it]"
          ]
        },
        {
          "name": "stdout",
          "output_type": "stream",
          "text": [
            "Epoch 08/10 - Train loss: 1.6978, acc: 0.4805 | Val loss: 1.6455, acc: 0.5069\n"
          ]
        },
        {
          "name": "stderr",
          "output_type": "stream",
          "text": [
            "\r 90%|█████████ | 9/10 [04:37<00:30, 30.69s/it]"
          ]
        },
        {
          "name": "stdout",
          "output_type": "stream",
          "text": [
            "Epoch 09/10 - Train loss: 1.6505, acc: 0.5031 | Val loss: 1.6209, acc: 0.5143\n"
          ]
        },
        {
          "name": "stderr",
          "output_type": "stream",
          "text": [
            "100%|██████████| 10/10 [05:08<00:00, 30.81s/it]"
          ]
        },
        {
          "name": "stdout",
          "output_type": "stream",
          "text": [
            "Epoch 10/10 - Train loss: 1.6401, acc: 0.5075 | Val loss: 1.6160, acc: 0.5153\n"
          ]
        },
        {
          "name": "stderr",
          "output_type": "stream",
          "text": [
            "\n"
          ]
        },
        {
          "data": {
            "image/png": "[encoded data removed]",
            "text/plain": [
              "<Figure size 1200x500 with 2 Axes>"
            ]
          },
          "metadata": {},
          "output_type": "display_data"
        }
      ],
      "source": [
        "vit_model = ViT(num_classes=len(train_loader.dataset.dataset.classes)).to(device)\n",
        "print(f\"Number of parameters in your ViT: {count_parameters(vit_model):,}\")\n",
        "\n",
        "train(vit_model, train_loader, val_loader, device, num_epochs = NUM_EPOCHS)"
      ]
    },
    {
      "cell_type": "markdown",
      "metadata": {
        "id": "tgSMTnHtTpQR"
      },
      "source": [
        "### 2.d) Experiment with the order of operations in ViT Block"
      ]
    },
    {
      "cell_type": "markdown",
      "metadata": {
        "id": "EOa0mNlAOPeW"
      },
      "source": [
        "We instantiate two new blocks, `Blockv2`\n",
        "and `Blockv3`.\n",
        "\n",
        "Complete the **\\_\\_init\\_\\_()** and **forward()** methods of each of the two classes. In each case, the\n",
        "implementation should be distinct, by modifying the order of operations in the original `Block`.\n",
        "\n",
        "Train and evaluate these models with the existing code."
      ]
    },
    {
      "cell_type": "code",
      "execution_count": null,
      "metadata": {
        "id": "vrBKiuowTpQS",
        "colab": {
          "base_uri": "https://localhost:8080/",
          "height": 356
        },
        "outputId": "c97b11ba-6bf3-4f51-f1c9-966b9255ae8d"
      },
      "outputs": [
        {
          "output_type": "stream",
          "name": "stdout",
          "text": [
            "Number of parameters in your ViT: 2,774,282\n"
          ]
        },
        {
          "output_type": "stream",
          "name": "stderr",
          "text": [
            "  0%|          | 0/10 [00:01<?, ?it/s]\n"
          ]
        },
        {
          "output_type": "error",
          "ename": "KeyboardInterrupt",
          "evalue": "",
          "traceback": [
            "\u001b[0;31m---------------------------------------------------------------------------\u001b[0m",
            "\u001b[0;31mKeyboardInterrupt\u001b[0m                         Traceback (most recent call last)",
            "\u001b[0;32m<ipython-input-9-c94024f52c77>\u001b[0m in \u001b[0;36m<cell line: 0>\u001b[0;34m()\u001b[0m\n\u001b[1;32m     16\u001b[0m \u001b[0mprint\u001b[0m\u001b[0;34m(\u001b[0m\u001b[0;34mf\"Number of parameters in your ViT: {count_parameters(vit_model):,}\"\u001b[0m\u001b[0;34m)\u001b[0m\u001b[0;34m\u001b[0m\u001b[0;34m\u001b[0m\u001b[0m\n\u001b[1;32m     17\u001b[0m \u001b[0;34m\u001b[0m\u001b[0m\n\u001b[0;32m---> 18\u001b[0;31m \u001b[0mtrain\u001b[0m\u001b[0;34m(\u001b[0m\u001b[0mvit_model\u001b[0m\u001b[0;34m,\u001b[0m \u001b[0mtrain_loader\u001b[0m\u001b[0;34m,\u001b[0m \u001b[0mval_loader\u001b[0m\u001b[0;34m,\u001b[0m \u001b[0mdevice\u001b[0m\u001b[0;34m,\u001b[0m \u001b[0mnum_epochs\u001b[0m \u001b[0;34m=\u001b[0m \u001b[0mNUM_EPOCHS\u001b[0m\u001b[0;34m)\u001b[0m\u001b[0;34m\u001b[0m\u001b[0;34m\u001b[0m\u001b[0m\n\u001b[0m",
            "\u001b[0;32m<ipython-input-3-a804474e16e2>\u001b[0m in \u001b[0;36mtrain\u001b[0;34m(model, trainloader, valloader, device, optimizer, criterion, scheduler, num_epochs)\u001b[0m\n\u001b[1;32m     23\u001b[0m         \u001b[0mmodel\u001b[0m\u001b[0;34m.\u001b[0m\u001b[0mtrain\u001b[0m\u001b[0;34m(\u001b[0m\u001b[0;34m)\u001b[0m\u001b[0;34m\u001b[0m\u001b[0;34m\u001b[0m\u001b[0m\n\u001b[1;32m     24\u001b[0m         \u001b[0mtrain_loss\u001b[0m \u001b[0;34m=\u001b[0m \u001b[0mtrain_acc\u001b[0m \u001b[0;34m=\u001b[0m \u001b[0mt_total\u001b[0m \u001b[0;34m=\u001b[0m \u001b[0;36m0\u001b[0m\u001b[0;34m\u001b[0m\u001b[0;34m\u001b[0m\u001b[0m\n\u001b[0;32m---> 25\u001b[0;31m         \u001b[0;32mfor\u001b[0m \u001b[0mxb\u001b[0m\u001b[0;34m,\u001b[0m \u001b[0myb\u001b[0m \u001b[0;32min\u001b[0m \u001b[0mtrainloader\u001b[0m\u001b[0;34m:\u001b[0m\u001b[0;34m\u001b[0m\u001b[0;34m\u001b[0m\u001b[0m\n\u001b[0m\u001b[1;32m     26\u001b[0m             \u001b[0mxb\u001b[0m\u001b[0;34m,\u001b[0m \u001b[0myb\u001b[0m \u001b[0;34m=\u001b[0m \u001b[0mxb\u001b[0m\u001b[0;34m.\u001b[0m\u001b[0mto\u001b[0m\u001b[0;34m(\u001b[0m\u001b[0mdevice\u001b[0m\u001b[0;34m)\u001b[0m\u001b[0;34m,\u001b[0m \u001b[0myb\u001b[0m\u001b[0;34m.\u001b[0m\u001b[0mto\u001b[0m\u001b[0;34m(\u001b[0m\u001b[0mdevice\u001b[0m\u001b[0;34m)\u001b[0m\u001b[0;34m\u001b[0m\u001b[0;34m\u001b[0m\u001b[0m\n\u001b[1;32m     27\u001b[0m             \u001b[0moptimizer\u001b[0m\u001b[0;34m.\u001b[0m\u001b[0mzero_grad\u001b[0m\u001b[0;34m(\u001b[0m\u001b[0;34m)\u001b[0m\u001b[0;34m\u001b[0m\u001b[0;34m\u001b[0m\u001b[0m\n",
            "\u001b[0;32m/usr/local/lib/python3.11/dist-packages/torch/utils/data/dataloader.py\u001b[0m in \u001b[0;36m__next__\u001b[0;34m(self)\u001b[0m\n\u001b[1;32m    706\u001b[0m                 \u001b[0;31m# TODO(https://github.com/pytorch/pytorch/issues/76750)\u001b[0m\u001b[0;34m\u001b[0m\u001b[0;34m\u001b[0m\u001b[0m\n\u001b[1;32m    707\u001b[0m                 \u001b[0mself\u001b[0m\u001b[0;34m.\u001b[0m\u001b[0m_reset\u001b[0m\u001b[0;34m(\u001b[0m\u001b[0;34m)\u001b[0m  \u001b[0;31m# type: ignore[call-arg]\u001b[0m\u001b[0;34m\u001b[0m\u001b[0;34m\u001b[0m\u001b[0m\n\u001b[0;32m--> 708\u001b[0;31m             \u001b[0mdata\u001b[0m \u001b[0;34m=\u001b[0m \u001b[0mself\u001b[0m\u001b[0;34m.\u001b[0m\u001b[0m_next_data\u001b[0m\u001b[0;34m(\u001b[0m\u001b[0;34m)\u001b[0m\u001b[0;34m\u001b[0m\u001b[0;34m\u001b[0m\u001b[0m\n\u001b[0m\u001b[1;32m    709\u001b[0m             \u001b[0mself\u001b[0m\u001b[0;34m.\u001b[0m\u001b[0m_num_yielded\u001b[0m \u001b[0;34m+=\u001b[0m \u001b[0;36m1\u001b[0m\u001b[0;34m\u001b[0m\u001b[0;34m\u001b[0m\u001b[0m\n\u001b[1;32m    710\u001b[0m             if (\n",
            "\u001b[0;32m/usr/local/lib/python3.11/dist-packages/torch/utils/data/dataloader.py\u001b[0m in \u001b[0;36m_next_data\u001b[0;34m(self)\u001b[0m\n\u001b[1;32m   1456\u001b[0m \u001b[0;34m\u001b[0m\u001b[0m\n\u001b[1;32m   1457\u001b[0m             \u001b[0;32massert\u001b[0m \u001b[0;32mnot\u001b[0m \u001b[0mself\u001b[0m\u001b[0;34m.\u001b[0m\u001b[0m_shutdown\u001b[0m \u001b[0;32mand\u001b[0m \u001b[0mself\u001b[0m\u001b[0;34m.\u001b[0m\u001b[0m_tasks_outstanding\u001b[0m \u001b[0;34m>\u001b[0m \u001b[0;36m0\u001b[0m\u001b[0;34m\u001b[0m\u001b[0;34m\u001b[0m\u001b[0m\n\u001b[0;32m-> 1458\u001b[0;31m             \u001b[0midx\u001b[0m\u001b[0;34m,\u001b[0m \u001b[0mdata\u001b[0m \u001b[0;34m=\u001b[0m \u001b[0mself\u001b[0m\u001b[0;34m.\u001b[0m\u001b[0m_get_data\u001b[0m\u001b[0;34m(\u001b[0m\u001b[0;34m)\u001b[0m\u001b[0;34m\u001b[0m\u001b[0;34m\u001b[0m\u001b[0m\n\u001b[0m\u001b[1;32m   1459\u001b[0m             \u001b[0mself\u001b[0m\u001b[0;34m.\u001b[0m\u001b[0m_tasks_outstanding\u001b[0m \u001b[0;34m-=\u001b[0m \u001b[0;36m1\u001b[0m\u001b[0;34m\u001b[0m\u001b[0;34m\u001b[0m\u001b[0m\n\u001b[1;32m   1460\u001b[0m             \u001b[0;32mif\u001b[0m \u001b[0mself\u001b[0m\u001b[0;34m.\u001b[0m\u001b[0m_dataset_kind\u001b[0m \u001b[0;34m==\u001b[0m \u001b[0m_DatasetKind\u001b[0m\u001b[0;34m.\u001b[0m\u001b[0mIterable\u001b[0m\u001b[0;34m:\u001b[0m\u001b[0;34m\u001b[0m\u001b[0;34m\u001b[0m\u001b[0m\n",
            "\u001b[0;32m/usr/local/lib/python3.11/dist-packages/torch/utils/data/dataloader.py\u001b[0m in \u001b[0;36m_get_data\u001b[0;34m(self)\u001b[0m\n\u001b[1;32m   1408\u001b[0m         \u001b[0;32melif\u001b[0m \u001b[0mself\u001b[0m\u001b[0;34m.\u001b[0m\u001b[0m_pin_memory\u001b[0m\u001b[0;34m:\u001b[0m\u001b[0;34m\u001b[0m\u001b[0;34m\u001b[0m\u001b[0m\n\u001b[1;32m   1409\u001b[0m             \u001b[0;32mwhile\u001b[0m \u001b[0mself\u001b[0m\u001b[0;34m.\u001b[0m\u001b[0m_pin_memory_thread\u001b[0m\u001b[0;34m.\u001b[0m\u001b[0mis_alive\u001b[0m\u001b[0;34m(\u001b[0m\u001b[0;34m)\u001b[0m\u001b[0;34m:\u001b[0m\u001b[0;34m\u001b[0m\u001b[0;34m\u001b[0m\u001b[0m\n\u001b[0;32m-> 1410\u001b[0;31m                 \u001b[0msuccess\u001b[0m\u001b[0;34m,\u001b[0m \u001b[0mdata\u001b[0m \u001b[0;34m=\u001b[0m \u001b[0mself\u001b[0m\u001b[0;34m.\u001b[0m\u001b[0m_try_get_data\u001b[0m\u001b[0;34m(\u001b[0m\u001b[0;34m)\u001b[0m\u001b[0;34m\u001b[0m\u001b[0;34m\u001b[0m\u001b[0m\n\u001b[0m\u001b[1;32m   1411\u001b[0m                 \u001b[0;32mif\u001b[0m \u001b[0msuccess\u001b[0m\u001b[0;34m:\u001b[0m\u001b[0;34m\u001b[0m\u001b[0;34m\u001b[0m\u001b[0m\n\u001b[1;32m   1412\u001b[0m                     \u001b[0;32mreturn\u001b[0m \u001b[0mdata\u001b[0m\u001b[0;34m\u001b[0m\u001b[0;34m\u001b[0m\u001b[0m\n",
            "\u001b[0;32m/usr/local/lib/python3.11/dist-packages/torch/utils/data/dataloader.py\u001b[0m in \u001b[0;36m_try_get_data\u001b[0;34m(self, timeout)\u001b[0m\n\u001b[1;32m   1249\u001b[0m         \u001b[0;31m#   (bool: whether successfully get data, any: data if successful else None)\u001b[0m\u001b[0;34m\u001b[0m\u001b[0;34m\u001b[0m\u001b[0m\n\u001b[1;32m   1250\u001b[0m         \u001b[0;32mtry\u001b[0m\u001b[0;34m:\u001b[0m\u001b[0;34m\u001b[0m\u001b[0;34m\u001b[0m\u001b[0m\n\u001b[0;32m-> 1251\u001b[0;31m             \u001b[0mdata\u001b[0m \u001b[0;34m=\u001b[0m \u001b[0mself\u001b[0m\u001b[0;34m.\u001b[0m\u001b[0m_data_queue\u001b[0m\u001b[0;34m.\u001b[0m\u001b[0mget\u001b[0m\u001b[0;34m(\u001b[0m\u001b[0mtimeout\u001b[0m\u001b[0;34m=\u001b[0m\u001b[0mtimeout\u001b[0m\u001b[0;34m)\u001b[0m\u001b[0;34m\u001b[0m\u001b[0;34m\u001b[0m\u001b[0m\n\u001b[0m\u001b[1;32m   1252\u001b[0m             \u001b[0;32mreturn\u001b[0m \u001b[0;34m(\u001b[0m\u001b[0;32mTrue\u001b[0m\u001b[0;34m,\u001b[0m \u001b[0mdata\u001b[0m\u001b[0;34m)\u001b[0m\u001b[0;34m\u001b[0m\u001b[0;34m\u001b[0m\u001b[0m\n\u001b[1;32m   1253\u001b[0m         \u001b[0;32mexcept\u001b[0m \u001b[0mException\u001b[0m \u001b[0;32mas\u001b[0m \u001b[0me\u001b[0m\u001b[0;34m:\u001b[0m\u001b[0;34m\u001b[0m\u001b[0;34m\u001b[0m\u001b[0m\n",
            "\u001b[0;32m/usr/lib/python3.11/queue.py\u001b[0m in \u001b[0;36mget\u001b[0;34m(self, block, timeout)\u001b[0m\n\u001b[1;32m    178\u001b[0m                     \u001b[0;32mif\u001b[0m \u001b[0mremaining\u001b[0m \u001b[0;34m<=\u001b[0m \u001b[0;36m0.0\u001b[0m\u001b[0;34m:\u001b[0m\u001b[0;34m\u001b[0m\u001b[0;34m\u001b[0m\u001b[0m\n\u001b[1;32m    179\u001b[0m                         \u001b[0;32mraise\u001b[0m \u001b[0mEmpty\u001b[0m\u001b[0;34m\u001b[0m\u001b[0;34m\u001b[0m\u001b[0m\n\u001b[0;32m--> 180\u001b[0;31m                     \u001b[0mself\u001b[0m\u001b[0;34m.\u001b[0m\u001b[0mnot_empty\u001b[0m\u001b[0;34m.\u001b[0m\u001b[0mwait\u001b[0m\u001b[0;34m(\u001b[0m\u001b[0mremaining\u001b[0m\u001b[0;34m)\u001b[0m\u001b[0;34m\u001b[0m\u001b[0;34m\u001b[0m\u001b[0m\n\u001b[0m\u001b[1;32m    181\u001b[0m             \u001b[0mitem\u001b[0m \u001b[0;34m=\u001b[0m \u001b[0mself\u001b[0m\u001b[0;34m.\u001b[0m\u001b[0m_get\u001b[0m\u001b[0;34m(\u001b[0m\u001b[0;34m)\u001b[0m\u001b[0;34m\u001b[0m\u001b[0;34m\u001b[0m\u001b[0m\n\u001b[1;32m    182\u001b[0m             \u001b[0mself\u001b[0m\u001b[0;34m.\u001b[0m\u001b[0mnot_full\u001b[0m\u001b[0;34m.\u001b[0m\u001b[0mnotify\u001b[0m\u001b[0;34m(\u001b[0m\u001b[0;34m)\u001b[0m\u001b[0;34m\u001b[0m\u001b[0;34m\u001b[0m\u001b[0m\n",
            "\u001b[0;32m/usr/lib/python3.11/threading.py\u001b[0m in \u001b[0;36mwait\u001b[0;34m(self, timeout)\u001b[0m\n\u001b[1;32m    329\u001b[0m             \u001b[0;32melse\u001b[0m\u001b[0;34m:\u001b[0m\u001b[0;34m\u001b[0m\u001b[0;34m\u001b[0m\u001b[0m\n\u001b[1;32m    330\u001b[0m                 \u001b[0;32mif\u001b[0m \u001b[0mtimeout\u001b[0m \u001b[0;34m>\u001b[0m \u001b[0;36m0\u001b[0m\u001b[0;34m:\u001b[0m\u001b[0;34m\u001b[0m\u001b[0;34m\u001b[0m\u001b[0m\n\u001b[0;32m--> 331\u001b[0;31m                     \u001b[0mgotit\u001b[0m \u001b[0;34m=\u001b[0m \u001b[0mwaiter\u001b[0m\u001b[0;34m.\u001b[0m\u001b[0macquire\u001b[0m\u001b[0;34m(\u001b[0m\u001b[0;32mTrue\u001b[0m\u001b[0;34m,\u001b[0m \u001b[0mtimeout\u001b[0m\u001b[0;34m)\u001b[0m\u001b[0;34m\u001b[0m\u001b[0;34m\u001b[0m\u001b[0m\n\u001b[0m\u001b[1;32m    332\u001b[0m                 \u001b[0;32melse\u001b[0m\u001b[0;34m:\u001b[0m\u001b[0;34m\u001b[0m\u001b[0;34m\u001b[0m\u001b[0m\n\u001b[1;32m    333\u001b[0m                     \u001b[0mgotit\u001b[0m \u001b[0;34m=\u001b[0m \u001b[0mwaiter\u001b[0m\u001b[0;34m.\u001b[0m\u001b[0macquire\u001b[0m\u001b[0;34m(\u001b[0m\u001b[0;32mFalse\u001b[0m\u001b[0;34m)\u001b[0m\u001b[0;34m\u001b[0m\u001b[0;34m\u001b[0m\u001b[0m\n",
            "\u001b[0;31mKeyboardInterrupt\u001b[0m: "
          ]
        }
      ],
      "source": [
        "class Blockv2(nn.Module):\n",
        "    def __init__(self, dim, num_heads, mlp_ratio=4., qkv_bias=True, p=0., attn_p=0.):\n",
        "        super().__init__()\n",
        "        self.attn = Attention(dim, num_heads, qkv_bias, attn_drop=attn_p, proj_drop=p)\n",
        "        self.mlp = MLP(dim, int(dim*mlp_ratio), p=p)\n",
        "        # ---- YOUR CODE STARTS HERE ----------\n",
        "        # This can't add any new element besides those used in Block\n",
        "        self.norm1 = nn.LayerNorm(dim)\n",
        "        self.norm2 = nn.LayerNorm(dim)\n",
        "        # ---- YOUR CODE END HERE ----------\n",
        "\n",
        "    def forward(self, x):\n",
        "        # ---- YOUR CODE STARTS HERE ----------#\n",
        "        # post norm\n",
        "\n",
        "        x = self.norm1(x + self.attn(x))\n",
        "\n",
        "        x = self.norm2(x + self.mlp(x))\n",
        "\n",
        "        # ---- YOUR CODE ENDS HERE ----------\n",
        "        return x\n",
        "\n",
        "vit_model = ViT(num_classes=len(train_loader.dataset.dataset.classes), block=Blockv2).to(device)\n",
        "print(f\"Number of parameters in your ViT: {count_parameters(vit_model):,}\")\n",
        "\n",
        "train(vit_model, train_loader, val_loader, device, num_epochs = NUM_EPOCHS)"
      ]
    },
    {
      "cell_type": "code",
      "execution_count": null,
      "metadata": {
        "id": "3az0KwiPTpQS"
      },
      "outputs": [],
      "source": [
        "class Blockv3(nn.Module):\n",
        "    def __init__(self, dim, num_heads, mlp_ratio=4., qkv_bias=True, p=0., attn_p=0.):\n",
        "        super().__init__()\n",
        "        self.attn = Attention(dim, num_heads, qkv_bias, attn_drop=attn_p, proj_drop=p)\n",
        "        self.mlp = MLP(dim, int(dim*mlp_ratio), p=p)\n",
        "        # ---- YOUR CODE STARTS HERE ----------\n",
        "        # This can't add any new element besides those used in Block\n",
        "        self.norm1 = nn.LayerNorm(dim)\n",
        "        self.norm2 = nn.LayerNorm(dim)\n",
        "        # ---- YOUR CODE END HERE ----------\n",
        "\n",
        "    def forward(self, x):\n",
        "        # ---- YOUR CODE STARTS HERE ----------\n",
        "        a = self.attn(self.norm1(x))\n",
        "        b = self.mlp(self.norm2(x))\n",
        "        x = x + a + b\n",
        "        # ---- YOUR CODE ENDS HERE ----------\n",
        "        return x\n",
        "\n",
        "vit_model = ViT(num_classes=len(train_loader.dataset.dataset.classes), block=Blockv3).to(device)\n",
        "print(f\"Number of parameters in your ViT: {count_parameters(vit_model):,}\")\n",
        "\n",
        "train(vit_model, train_loader, val_loader, device, num_epochs = NUM_EPOCHS)"
      ]
    },
    {
      "cell_type": "markdown",
      "metadata": {
        "id": "T9afE22TQ6N6"
      },
      "source": [
        "## 3. ViT enhancements (4 Pts.)"
      ]
    },
    {
      "cell_type": "markdown",
      "metadata": {
        "id": "qVrmgD6XTpQX"
      },
      "source": [
        "### 3.b) Experiment!"
      ]
    },
    {
      "cell_type": "markdown",
      "metadata": {
        "id": "7r6l81FNRuQK"
      },
      "source": [
        "Change one or more hyperparameters to improve the validation accuracy using the same number of training samples."
      ]
    },
    {
      "cell_type": "code",
      "execution_count": null,
      "metadata": {
        "id": "OjM2tUi3XinD",
        "colab": {
          "base_uri": "https://localhost:8080/",
          "height": 611
        },
        "outputId": "3d172892-df86-4ceb-8580-58322b67f1d2"
      },
      "outputs": [
        {
          "output_type": "stream",
          "name": "stderr",
          "text": [
            " 10%|█         | 1/10 [00:31<04:39, 31.01s/it]"
          ]
        },
        {
          "output_type": "stream",
          "name": "stdout",
          "text": [
            "Epoch 01/10 - Train loss: 2.1843, acc: 0.2337 | Val loss: 2.1056, acc: 0.2661\n"
          ]
        },
        {
          "output_type": "stream",
          "name": "stderr",
          "text": [
            "\r 20%|██        | 2/10 [01:03<04:13, 31.64s/it]"
          ]
        },
        {
          "output_type": "stream",
          "name": "stdout",
          "text": [
            "Epoch 02/10 - Train loss: 2.0864, acc: 0.2817 | Val loss: 2.0518, acc: 0.3126\n"
          ]
        },
        {
          "output_type": "stream",
          "name": "stderr",
          "text": [
            "\r 30%|███       | 3/10 [01:34<03:39, 31.31s/it]"
          ]
        },
        {
          "output_type": "stream",
          "name": "stdout",
          "text": [
            "Epoch 03/10 - Train loss: 2.0262, acc: 0.3252 | Val loss: 1.9795, acc: 0.3580\n"
          ]
        },
        {
          "output_type": "stream",
          "name": "stderr",
          "text": [
            "\r 40%|████      | 4/10 [02:05<03:08, 31.39s/it]"
          ]
        },
        {
          "output_type": "stream",
          "name": "stdout",
          "text": [
            "Epoch 04/10 - Train loss: 1.9451, acc: 0.3575 | Val loss: 1.8917, acc: 0.3759\n"
          ]
        },
        {
          "output_type": "stream",
          "name": "stderr",
          "text": [
            "\r 50%|█████     | 5/10 [02:36<02:36, 31.24s/it]"
          ]
        },
        {
          "output_type": "stream",
          "name": "stdout",
          "text": [
            "Epoch 05/10 - Train loss: 1.8741, acc: 0.3923 | Val loss: 1.8251, acc: 0.4329\n"
          ]
        },
        {
          "output_type": "stream",
          "name": "stderr",
          "text": [
            "\r 60%|██████    | 6/10 [03:08<02:05, 31.47s/it]"
          ]
        },
        {
          "output_type": "stream",
          "name": "stdout",
          "text": [
            "Epoch 06/10 - Train loss: 1.8018, acc: 0.4311 | Val loss: 1.7474, acc: 0.4657\n"
          ]
        },
        {
          "output_type": "stream",
          "name": "stderr",
          "text": [
            "\r 70%|███████   | 7/10 [03:39<01:33, 31.23s/it]"
          ]
        },
        {
          "output_type": "stream",
          "name": "stdout",
          "text": [
            "Epoch 07/10 - Train loss: 1.7414, acc: 0.4519 | Val loss: 1.7093, acc: 0.4910\n"
          ]
        },
        {
          "output_type": "stream",
          "name": "stderr",
          "text": [
            "\r 80%|████████  | 8/10 [04:11<01:02, 31.47s/it]"
          ]
        },
        {
          "output_type": "stream",
          "name": "stdout",
          "text": [
            "Epoch 08/10 - Train loss: 1.6952, acc: 0.4808 | Val loss: 1.6852, acc: 0.4879\n"
          ]
        },
        {
          "output_type": "stream",
          "name": "stderr",
          "text": [
            "\r 90%|█████████ | 9/10 [04:43<00:31, 31.90s/it]"
          ]
        },
        {
          "output_type": "stream",
          "name": "stdout",
          "text": [
            "Epoch 09/10 - Train loss: 1.6704, acc: 0.4939 | Val loss: 1.6315, acc: 0.5048\n"
          ]
        },
        {
          "output_type": "stream",
          "name": "stderr",
          "text": [
            "100%|██████████| 10/10 [05:15<00:00, 31.57s/it]"
          ]
        },
        {
          "output_type": "stream",
          "name": "stdout",
          "text": [
            "Epoch 10/10 - Train loss: 1.6471, acc: 0.5001 | Val loss: 1.6355, acc: 0.5143\n"
          ]
        },
        {
          "output_type": "stream",
          "name": "stderr",
          "text": [
            "\n"
          ]
        },
        {
          "output_type": "display_data",
          "data": {
            "text/plain": [
              "<Figure size 1200x500 with 2 Axes>"
            ],
            "image/png": "[encoded data removed]"
          },
          "metadata": {}
        }
      ],
      "source": [
        "# ---- YOUR CODE STARTS HERE --------\n",
        "\n",
        "vit_model = ViT(\n",
        "    #p = 0.2, attn_p = 0.2,  #0.0 -> 0.2\n",
        "    #patch_size = 16,        #32 -> 16\n",
        "    #embed_dim = 180,        #128 -> 180\n",
        "    #depth = 24,             #12 -> 24\n",
        "    num_heads = 8,          #4 -> 8\n",
        "    num_classes=len(train_loader.dataset.dataset.classes)).to(device)\n",
        "\n",
        "# ---- YOUR CODE ENDS HERE ----------\n",
        "\n",
        "train(vit_model, train_loader, val_loader, device, num_epochs=NUM_EPOCHS)"
      ]
    }
  ],
  "metadata": {
    "accelerator": "GPU",
    "colab": {
      "gpuType": "T4",
      "provenance": []
    },
    "kernelspec": {
      "display_name": "Python 3",
      "name": "python3"
    },
    "language_info": {
      "codemirror_mode": {
        "name": "ipython",
        "version": 3
      },
      "file_extension": ".py",
      "mimetype": "text/x-python",
      "name": "python",
      "nbconvert_exporter": "python",
      "pygments_lexer": "ipython3",
      "version": "3.10.13"
    }
  },
  "nbformat": 4,
  "nbformat_minor": 0
}